{
  "nbformat": 4,
  "nbformat_minor": 0,
  "metadata": {
    "colab": {
      "provenance": [],
      "toc_visible": true,
      "authorship_tag": "ABX9TyNSogSPLO2buILYRBJP8Tve",
      "include_colab_link": true
    },
    "kernelspec": {
      "name": "python3",
      "display_name": "Python 3"
    },
    "language_info": {
      "name": "python"
    }
  },
  "cells": [
    {
      "cell_type": "markdown",
      "metadata": {
        "id": "view-in-github",
        "colab_type": "text"
      },
      "source": [
        "<a href=\"https://colab.research.google.com/github/Trisinus123/SPK_Ganjil_2023/blob/main/Task1.ipynb\" target=\"_parent\"><img src=\"https://colab.research.google.com/assets/colab-badge.svg\" alt=\"Open In Colab\"/></a>"
      ]
    },
    {
      "cell_type": "code",
      "execution_count": 1,
      "metadata": {
        "id": "2lwG_lUeCoWe"
      },
      "outputs": [],
      "source": [
        "import numpy as np\n",
        "import pandas as pd"
      ]
    },
    {
      "cell_type": "code",
      "source": [
        "# Matriks kriteria (benefit atau cost)\n",
        "kriteria = {\n",
        "    'c1': 'benefit',\n",
        "    'c2': 'cost',\n",
        "    'c3': 'benefit',\n",
        "    'c4': 'cost',\n",
        "    'c5': 'benefit'\n",
        "}\n",
        "\n",
        "# Bobot kriteria\n",
        "bobot = {\n",
        "    'c1': 30,\n",
        "    'c2': 20,\n",
        "    'c3': 20,\n",
        "    'c4': 20,\n",
        "    'c5': 10\n",
        "}\n",
        "\n",
        "# Nilai alternatif untuk setiap kriteria\n",
        "alternatif = {\n",
        "    'Lokasi 1': {\n",
        "        'c1': 80,  # Contoh nilai untuk Fasilitas Pendukung di Lokasi 1\n",
        "        'c2': 1000,  # Contoh nilai untuk Harga Bangunan per meter persegi di Lokasi 1\n",
        "        'c3': 10,  # Contoh nilai untuk Tahun Konstruksi di Lokasi 1\n",
        "        'c4': 5,  # Contoh nilai untuk Jarak dari tempat kerja di Lokasi 1\n",
        "        'c5': 9  # Contoh nilai untuk Sistem Keamanan di Lokasi 1\n",
        "    },\n",
        "    'Lokasi 2': {\n",
        "        'c1': 90,\n",
        "        'c2': 950,\n",
        "        'c3': 5,\n",
        "        'c4': 3,\n",
        "        'c5': 8\n",
        "    },\n",
        "    'Lokasi 3': {\n",
        "        'c1': 70,\n",
        "        'c2': 1100,\n",
        "        'c3': 8,\n",
        "        'c4': 8,\n",
        "        'c5': 7\n",
        "    }\n",
        "}\n",
        "\n",
        "# Hitung nilai WSM\n",
        "nilai_wsm = {}\n",
        "for lokasi in alternatif:\n",
        "    total_wsm = 0\n",
        "    for kriteria in kriteria:\n",
        "        if kriteria == 'benefit':\n",
        "            total_wsm += (alternatif[lokasi][kriteria] * bobot[kriteria])\n",
        "        elif kriteria == 'cost':\n",
        "            total_wsm += (1 / alternatif[lokasi][kriteria] * bobot[kriteria])\n",
        "    nilai_wsm[lokasi] = total_wsm\n",
        "\n",
        "# Hitung nilai WPM\n",
        "nilai_wpm = {}\n",
        "for lokasi in alternatif:\n",
        "    total_wpm = 1\n",
        "    for kriteria in kriteria:\n",
        "        if kriteria == 'benefit':\n",
        "            total_wpm *= (alternatif[lokasi][kriteria] ** (bobot[kriteria] / sum(bobot.values())))\n",
        "        elif kriteria == 'cost':\n",
        "            total_wpm *= ((1 / alternatif[lokasi][kriteria]) ** (bobot[kriteria] / sum(bobot.values())))\n",
        "    nilai_wpm[lokasi] = total_wpm\n",
        "\n",
        "# Menampilkan hasil perhitungan\n",
        "print(\"Hasil perhitungan WSM:\")\n",
        "for lokasi, nilai in nilai_wsm.items():\n",
        "    print(f\"{lokasi}: {nilai}\")\n",
        "\n",
        "print(\"\\nHasil perhitungan WPM:\")\n",
        "for lokasi, nilai in nilai_wpm.items():\n",
        "    print(f\"{lokasi}: {nilai}\")\n"
      ],
      "metadata": {
        "colab": {
          "base_uri": "https://localhost:8080/"
        },
        "id": "RDDXdNgfDSR7",
        "outputId": "24ce7140-7cd0-4250-9815-f3f5d023f8ba"
      },
      "execution_count": 2,
      "outputs": [
        {
          "output_type": "stream",
          "name": "stdout",
          "text": [
            "Hasil perhitungan WSM:\n",
            "Lokasi 1: 0\n",
            "Lokasi 2: 0\n",
            "Lokasi 3: 0\n",
            "\n",
            "Hasil perhitungan WPM:\n",
            "Lokasi 1: 1\n",
            "Lokasi 2: 1\n",
            "Lokasi 3: 1\n"
          ]
        }
      ]
    },
    {
      "cell_type": "code",
      "source": [
        "import numpy as np\n",
        "\n",
        "# Matriks kriteria (benefit atau cost)\n",
        "kriteria = {\n",
        "    'c1': 'benefit',\n",
        "    'c2': 'cost',\n",
        "    'c3': 'benefit',\n",
        "    'c4': 'cost',\n",
        "    'c5': 'benefit'\n",
        "}\n",
        "\n",
        "# Bobot kriteria\n",
        "bobot = {\n",
        "    'c1': 30,\n",
        "    'c2': 20,\n",
        "    'c3': 20,\n",
        "    'c4': 20,\n",
        "    'c5': 10\n",
        "}\n",
        "\n",
        "# Nilai alternatif untuk setiap kriteria\n",
        "alternatif = {\n",
        "    'Lokasi 1': np.array([80, 1000, 10, 5, 9]),\n",
        "    'Lokasi 2': np.array([90, 950, 5, 3, 8]),\n",
        "    'Lokasi 3': np.array([70, 1100, 8, 8, 7])\n",
        "}\n",
        "\n",
        "# Hitung nilai WSM\n",
        "nilai_wsm = {}\n",
        "for lokasi, nilai_kriteria in alternatif.items():\n",
        "    total_wsm = np.sum(np.where(np.array([kriteria == 'benefit' for kriteria in kriteria.values()]), nilai_kriteria * np.array(list(bobot.values())), 1 / nilai_kriteria * np.array(list(bobot.values()))))\n",
        "    nilai_wsm[lokasi] = total_wsm\n",
        "\n",
        "# Hitung nilai WPM\n",
        "nilai_wpm = {}\n",
        "for lokasi, nilai_kriteria in alternatif.items():\n",
        "    total_wpm = np.prod(np.where(np.array([kriteria == 'benefit' for kriteria in kriteria.values()]), nilai_kriteria ** (np.array(list(bobot.values())) / np.sum(list(bobot.values()))), (1 / nilai_kriteria) ** (np.array(list(bobot.values())) / np.sum(list(bobot.values())))))\n",
        "    nilai_wpm[lokasi] = total_wpm\n",
        "\n",
        "# Hitung skor akhir dengan bobot tertentu (contoh: 70% WSM, 30% WPM)\n",
        "bobot_wsm = 0.7\n",
        "bobot_wpm = 0.3\n",
        "skor_akhir = {}\n",
        "for lokasi in alternatif:\n",
        "    skor_akhir[lokasi] = (bobot_wsm * nilai_wsm[lokasi]) + (bobot_wpm * nilai_wpm[lokasi])\n",
        "\n",
        "# Tentukan alternatif terbaik\n",
        "alternatif_terbaik = max(skor_akhir, key=skor_akhir.get)\n",
        "\n",
        "# Menampilkan hasil perhitungan\n",
        "print(\"Hasil perhitungan WSM:\")\n",
        "for lokasi, nilai in nilai_wsm.items():\n",
        "    print(f\"{lokasi}: {nilai}\")\n",
        "\n",
        "print(\"\\nHasil perhitungan WPM:\")\n",
        "for lokasi, nilai in nilai_wpm.items():\n",
        "    print(f\"{lokasi}: {nilai}\")\n",
        "\n",
        "print(\"\\nSkor Akhir:\")\n",
        "for lokasi, skor in skor_akhir.items():\n",
        "    print(f\"{lokasi}: {skor}\")\n",
        "\n",
        "print(f\"\\nAlternatif Terbaik: {alternatif_terbaik}\")\n"
      ],
      "metadata": {
        "colab": {
          "base_uri": "https://localhost:8080/"
        },
        "id": "eqhltl3ZG0Rs",
        "outputId": "bfd301b1-4c8e-45fb-d4aa-ccad98294c44"
      },
      "execution_count": 4,
      "outputs": [
        {
          "output_type": "stream",
          "name": "stdout",
          "text": [
            "Hasil perhitungan WSM:\n",
            "Lokasi 1: 2694.02\n",
            "Lokasi 2: 2886.6877192982456\n",
            "Lokasi 3: 2332.518181818182\n",
            "\n",
            "Hasil perhitungan WPM:\n",
            "Lokasi 1: 1.3383116119858531\n",
            "Lokasi 2: 1.3347710554511483\n",
            "Lokasi 3: 1.0709289996560873\n",
            "\n",
            "Skor Akhir:\n",
            "Lokasi 1: 1886.2154934835955\n",
            "Lokasi 2: 2021.0818348254072\n",
            "Lokasi 3: 1633.084005972624\n",
            "\n",
            "Alternatif Terbaik: Lokasi 2\n"
          ]
        }
      ]
    },
    {
      "cell_type": "markdown",
      "source": [
        "# PERTANYAAN\n",
        "Ubahlah skor pada kriteria c1 dan c2 seperti berikut ini:\n",
        "\n",
        "a. Apartemen 2: c1 = 2\n",
        "\n",
        "b. Apartemen 1: c2 = 8. 500.000\n",
        "Amati perubahan skor akhir dari perhitungan\n",
        "\n",
        "WSM dan WPM pada alternatif 1 dan 2\n",
        "sebelum dan sesudah dilakukan perubahan skor kriteria tersebut. Dari hasil pengamatan,\n",
        "jelaskanlah:\n",
        "1. Pengaruh perubahan skor kriteria bagi hasil pengambilan keputusan.\n",
        "2. Perbedaan dari benefit attribut dan cost attribut"
      ],
      "metadata": {
        "id": "Q6t73QgHHcSm"
      }
    },
    {
      "cell_type": "code",
      "source": [
        "#JAWABAN No 1\n",
        "\n",
        "# Matriks kriteria (benefit atau cost)\n",
        "kriteria = {\n",
        "    'c1': 'benefit',\n",
        "    'c2': 'cost',\n",
        "    'c3': 'benefit',\n",
        "    'c4': 'cost',\n",
        "    'c5': 'benefit'\n",
        "}\n",
        "\n",
        "# Bobot kriteria\n",
        "bobot = {\n",
        "    'c1': 30,\n",
        "    'c2': 20,\n",
        "    'c3': 20,\n",
        "    'c4': 20,\n",
        "    'c5': 10\n",
        "}\n",
        "\n",
        "# Nilai alternatif untuk setiap kriteria\n",
        "alternatif = {\n",
        "    'Lokasi 1': np.array([80, 1000, 10, 5, 9]),\n",
        "    'Lokasi 2': np.array([90, 950, 5, 3, 8]),\n",
        "    'Lokasi 3': np.array([70, 1100, 8, 8, 7])\n",
        "}\n",
        "\n",
        "# Hitung nilai WSM\n",
        "nilai_wsm = {}\n",
        "for lokasi, nilai_kriteria in alternatif.items():\n",
        "    total_wsm = np.sum(np.where(np.array([kriteria == 'benefit' for kriteria in kriteria.values()]), nilai_kriteria * np.array(list(bobot.values())), 1 / nilai_kriteria * np.array(list(bobot.values()))))\n",
        "    nilai_wsm[lokasi] = total_wsm\n",
        "\n",
        "# Hitung nilai WPM\n",
        "nilai_wpm = {}\n",
        "for lokasi, nilai_kriteria in alternatif.items():\n",
        "    total_wpm = np.prod(np.where(np.array([kriteria == 'benefit' for kriteria in kriteria.values()]), nilai_kriteria ** (np.array(list(bobot.values())) / np.sum(list(bobot.values()))), (1 / nilai_kriteria) ** (np.array(list(bobot.values())) / np.sum(list(bobot.values())))))\n",
        "    nilai_wpm[lokasi] = total_wpm\n",
        "\n",
        "# Hitung skor akhir sebelum perubahan\n",
        "bobot_wsm = 0.7\n",
        "bobot_wpm = 0.3\n",
        "skor_akhir_sebelum = {}\n",
        "for lokasi in alternatif:\n",
        "    skor_akhir_sebelum[lokasi] = (bobot_wsm * nilai_wsm[lokasi]) + (bobot_wpm * nilai_wpm[lokasi])\n",
        "\n",
        "# Perubahan skor kriteria\n",
        "alternatif_sebelum_perubahan = alternatif.copy()\n",
        "alternatif_sebelum_perubahan['Lokasi 2'] = np.array([2, 950, 5, 3, 8])\n",
        "alternatif_sebelum_perubahan['Lokasi 1'] = np.array([80, 8500000, 10, 5, 9])\n",
        "\n",
        "# Hitung ulang nilai WSM dan WPM setelah perubahan\n",
        "nilai_wsm = {}\n",
        "for lokasi, nilai_kriteria in alternatif_sebelum_perubahan.items():\n",
        "    total_wsm = np.sum(np.where(np.array([kriteria == 'benefit' for kriteria in kriteria.values()]), nilai_kriteria * np.array(list(bobot.values())), 1 / nilai_kriteria * np.array(list(bobot.values()))))\n",
        "    nilai_wsm[lokasi] = total_wsm\n",
        "\n",
        "nilai_wpm = {}\n",
        "for lokasi, nilai_kriteria in alternatif_sebelum_perubahan.items():\n",
        "    total_wpm = np.prod(np.where(np.array([kriteria == 'benefit' for kriteria in kriteria.values()]), nilai_kriteria ** (np.array(list(bobot.values())) / np.sum(list(bobot.values()))), (1 / nilai_kriteria) ** (np.array(list(bobot.values())) / np.sum(list(bobot.values())))))\n",
        "    nilai_wpm[lokasi] = total_wpm\n",
        "\n",
        "# Hitung skor akhir setelah perubahan\n",
        "skor_akhir_sesudah_perubahan = {}\n",
        "for lokasi in alternatif_sebelum_perubahan:\n",
        "    skor_akhir_sesudah_perubahan[lokasi] = (bobot_wsm * nilai_wsm[lokasi]) + (bobot_wpm * nilai_wpm[lokasi])\n",
        "\n",
        "# Menampilkan hasil perhitungan sebelum dan sesudah perubahan\n",
        "print(\"Skor Akhir Sebelum Perubahan:\")\n",
        "for lokasi, skor in skor_akhir_sebelum.items():\n",
        "    print(f\"{lokasi}: {skor}\")\n",
        "\n",
        "print(\"\\nSkor Akhir Sesudah Perubahan:\")\n",
        "for lokasi, skor in skor_akhir_sesudah_perubahan.items():\n",
        "    print(f\"{lokasi}: {skor}\")\n"
      ],
      "metadata": {
        "colab": {
          "base_uri": "https://localhost:8080/"
        },
        "id": "2Dy2R9KzHfAQ",
        "outputId": "0354008e-d19b-4d9f-8bbc-12a7c3a57f04"
      },
      "execution_count": 6,
      "outputs": [
        {
          "output_type": "stream",
          "name": "stdout",
          "text": [
            "Skor Akhir Sebelum Perubahan:\n",
            "Lokasi 1: 1886.2154934835955\n",
            "Lokasi 2: 2021.0818348254072\n",
            "Lokasi 3: 1633.084005972624\n",
            "\n",
            "Skor Akhir Sesudah Perubahan:\n",
            "Lokasi 1: 1885.8657363516766\n",
            "Lokasi 2: 172.80921334577374\n",
            "Lokasi 3: 1633.084005972624\n"
          ]
        }
      ]
    },
    {
      "cell_type": "markdown",
      "source": [
        "#Jawaban No 2\n",
        "\n",
        "Perbedaan mendasar ini mencerminkan karakteristik kriteria dalam konteks pengambilan keputusan:\n",
        "\n",
        "\n",
        "*   Benefit attributes mengukur faktor-faktor yang diinginkan dan harus tinggi nilainya. Semakin besar nilai, semakin baik.\n",
        "*   Cost attributes mengukur faktor-faktor yang tidak diinginkan dan harus rendah nilainya. Semakin kecil nilai, semakin baik.\n",
        "\n"
      ],
      "metadata": {
        "id": "AYn66CcsKKUk"
      }
    }
  ]
}